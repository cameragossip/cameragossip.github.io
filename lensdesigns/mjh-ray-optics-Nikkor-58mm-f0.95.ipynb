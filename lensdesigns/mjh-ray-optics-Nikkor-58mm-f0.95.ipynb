{
 "cells": [
  {
   "cell_type": "code",
   "execution_count": 97,
   "metadata": {},
   "outputs": [],
   "source": [
    "%matplotlib inline\n",
    "isdark = False"
   ]
  },
  {
   "cell_type": "code",
   "execution_count": 98,
   "metadata": {},
   "outputs": [],
   "source": [
    "from rayoptics.environment import *\n",
    "from rayoptics.elem.elements import Element\n",
    "from rayoptics.raytr.trace import apply_paraxial_vignetting"
   ]
  },
  {
   "cell_type": "code",
   "execution_count": 99,
   "metadata": {},
   "outputs": [],
   "source": [
    "opm = OpticalModel()\n",
    "sm  = opm.seq_model\n",
    "osp = opm.optical_spec\n",
    "pm = opm.parax_model"
   ]
  },
  {
   "cell_type": "code",
   "execution_count": 100,
   "metadata": {},
   "outputs": [],
   "source": [
    "#osp.pupil = PupilSpec(osp, key=['object', 'pupil'], value=60.84)\n",
    "osp.pupil = PupilSpec(osp, key=['image', 'f/#'], value=0.98)\n",
    "osp.field_of_view = FieldSpec(osp, key=['object', 'angle'], flds=[0., 19.98])"
   ]
  },
  {
   "cell_type": "code",
   "execution_count": 101,
   "metadata": {},
   "outputs": [],
   "source": [
    "osp.spectral_region = WvlSpec([(486.1327, 0.5), (587.5618, 1.0), (656.2725, 0.5)], ref_wl=1)"
   ]
  },
  {
   "cell_type": "code",
   "execution_count": 102,
   "metadata": {},
   "outputs": [],
   "source": [
    "opm.system_spec.title = 'Nikkor Z 58mm f0.95 - WO 2019/229849 Example 1'\n",
    "opm.system_spec.dimensions = 'MM'"
   ]
  },
  {
   "cell_type": "code",
   "execution_count": 103,
   "metadata": {},
   "outputs": [],
   "source": [
    "opm.radius_mode = True"
   ]
  },
  {
   "cell_type": "code",
   "execution_count": 104,
   "metadata": {},
   "outputs": [
    {
     "name": "stdout",
     "output_type": "stream",
     "text": [
      "0 Surface(lbl='Obj', profile=Spherical(c=0.0), interact_mode=transmit)\n",
      "1 Surface(profile=EvenPolynomial(c=0.009217609320846545, cc=-1.0, coefs=[0.0, -3.82177e-07, -6.06486e-11, -3.80172e-15, -1.32266e-18]), interact_mode=transmit)\n",
      "2 Surface(profile=Spherical(c=-0.0011784809380708267), interact_mode=transmit)\n",
      "3 Surface(profile=Spherical(c=0.01989970548435883), interact_mode=transmit)\n",
      "4 Surface(profile=Spherical(c=-0.016469038208168644), interact_mode=transmit)\n",
      "5 Surface(profile=Spherical(c=0.0004004004004004004), interact_mode=transmit)\n",
      "6 Surface(profile=Spherical(c=-0.012946827379950543), interact_mode=transmit)\n",
      "7 Surface(profile=Spherical(c=0.008790204196443482), interact_mode=transmit)\n",
      "8 Surface(profile=Spherical(c=-0.005616084465910367), interact_mode=transmit)\n",
      "9 Surface(profile=Spherical(c=0.014152478806662986), interact_mode=transmit)\n",
      "10 Surface(profile=Spherical(c=-0.000508001016002032), interact_mode=transmit)\n",
      "11 Surface(profile=Spherical(c=0.003452001643152782), interact_mode=transmit)\n",
      "12 Surface(profile=Spherical(c=-0.010300040170156663), interact_mode=transmit)\n",
      "13 Surface(profile=Spherical(c=0.021243149084420276), interact_mode=transmit)\n",
      "14 Surface(profile=Spherical(c=0.0), interact_mode=transmit)\n",
      "15 Surface(profile=Spherical(c=-0.01050089257586895), interact_mode=transmit)\n",
      "16 Surface(profile=Spherical(c=0.024269488399184545), interact_mode=transmit)\n",
      "17 Surface(profile=Spherical(c=-0.003661769660041305), interact_mode=transmit)\n",
      "18 Surface(profile=Spherical(c=0.01312801123757762), interact_mode=transmit)\n",
      "19 Surface(profile=Spherical(c=-0.009844942160964805), interact_mode=transmit)\n",
      "20 Surface(profile=EvenPolynomial(c=0.005677688953488373, cc=-1.0, coefs=[0.0, -1.15028e-06, -4.51771e-10, 2.7267e-13, -7.66812e-17]), interact_mode=transmit)\n",
      "21 Surface(profile=Spherical(c=-0.01487630353609735), interact_mode=transmit)\n",
      "22 Surface(profile=Spherical(c=0.01801477211313277), interact_mode=transmit)\n",
      "23 Surface(profile=Spherical(c=0.014003052665481075), interact_mode=transmit)\n",
      "24 Surface(profile=Spherical(c=-0.008693762225603129), interact_mode=transmit)\n",
      "25 Surface(profile=Spherical(c=0.021302430607332296), interact_mode=transmit)\n",
      "26 Surface(profile=Spherical(c=0.018089397803947107), interact_mode=transmit)\n",
      "27 Surface(profile=Spherical(c=-0.006942467769593379), interact_mode=transmit)\n",
      "28 Surface(profile=EvenPolynomial(c=0.0189186121306141, cc=-1.0, coefs=[0.0, 3.18645e-06, -1.14718e-08, 7.74567e-11, -2.24225e-13, 3.3479e-16, -1.7047e-19]), interact_mode=transmit)\n",
      "29 Surface(profile=Spherical(c=0.0), interact_mode=transmit)\n",
      "30 Surface(lbl='Img', profile=Spherical(c=0.0), interact_mode=transmit)\n"
     ]
    }
   ],
   "source": [
    "d22 = 2.68\n",
    "sm.gaps[0].thi=1e10\n",
    "sm.add_surface([108.488,7.65,1.902650,35.77])\n",
    "sm.add_surface([-848.550,2.80,1.552981,55.07])  \n",
    "sm.add_surface([50.252,18.12])\n",
    "sm.add_surface([-60.720,2.80,1.612660,44.46])\n",
    "sm.add_surface([2497.500,9.15,1.593190,67.90])\n",
    "sm.add_surface([-77.239,0.40])\n",
    "sm.add_surface([113.763,10.95,1.848500,43.79])\n",
    "sm.add_surface([-178.060,0.40])\n",
    "sm.add_surface([70.659,9.74,1.593190,67.90])\n",
    "sm.add_surface([-1968.500,0.20])\n",
    "sm.add_surface([289.687,8.00,1.593190,67.90])\n",
    "sm.add_surface([-97.087,2.80,1.738000,32.33])\n",
    "sm.add_surface([47.074,8.70])\n",
    "sm.add_surface([0, 5.29])\n",
    "sm.set_stop()\n",
    "sm.add_surface([-95.230,2.20,1.612660,44.46])\n",
    "sm.add_surface([41.204,11.55,1.497820,82.57])\n",
    "sm.add_surface([-273.092,0.20])\n",
    "sm.add_surface([76.173,9.50,1.883000,40.69])\n",
    "sm.add_surface([-101.575,0.20])\n",
    "sm.add_surface([176.128,7.45,1.953750,32.33])\n",
    "sm.add_surface([-67.221,1.80,1.738000,32.33])\n",
    "sm.add_surface([55.510,d22])\n",
    "sm.add_surface([71.413,6.35,1.883000,40.69])\n",
    "sm.add_surface([-115.025,1.81,1.698950,30.13])\n",
    "sm.add_surface([46.943,0.80])\n",
    "sm.add_surface([55.281,9.11,1.883000,40.69])\n",
    "sm.add_surface([-144.041,3.00,1.765538,46.76])\n",
    "sm.add_surface([52.858,14.50])\n",
    "sm.add_surface([0,1.60,1.516800,64.14])\n",
    "sm.gaps[-1].thi = 1.0\n",
    "\n",
    "asp1 = EvenPolynomial(r=108.488, ec=0.,\n",
    "                        coefs=[0.,-3.82177E-07,-6.06486E-11,-3.80172E-15,-1.32266E-18])\n",
    "asp20 = EvenPolynomial(r=176.128, ec=0.,\n",
    "                        coefs=[0.,-1.15028E-06,-4.51771E-10,2.72670E-13,-7.66812E-17])\n",
    "asp28 = EvenPolynomial(r=52.858, ec=0.,\n",
    "                        coefs=[0.,3.18645E-06,-1.14718E-08,7.74567E-11,-2.24225E-13,3.34790E-16,-1.70470E-19])\n",
    "\n",
    "sm.ifcs[1].profile = asp1\n",
    "sm.ifcs[20].profile = asp20\n",
    "sm.ifcs[28].profile = asp28\n",
    "\n",
    "sm.ifcs[1].max_aperture = 66.80 / 2.0\n",
    "sm.ifcs[2].max_aperture = 65.82 / 2.0\n",
    "sm.ifcs[3].max_aperture = 57.94 / 2.0\n",
    "sm.ifcs[4].max_aperture = 58.28 / 2.0\n",
    "sm.ifcs[5].max_aperture = 65.32 / 2.0\n",
    "sm.ifcs[6].max_aperture = 65.32 / 2.0\n",
    "sm.ifcs[7].max_aperture = 70.90 / 2.0\n",
    "sm.ifcs[8].max_aperture = 70.90 / 2.0\n",
    "sm.ifcs[9].max_aperture = 65.00 / 2.0\n",
    "sm.ifcs[10].max_aperture = 65.00 / 2.0\n",
    "sm.ifcs[11].max_aperture = 61.06 / 2.0\n",
    "sm.ifcs[12].max_aperture = 59.42 / 2.0\n",
    "sm.ifcs[13].max_aperture = 50.24 / 2.0\n",
    "sm.ifcs[14].max_aperture = 47.918 / 2.0\n",
    "sm.ifcs[15].max_aperture = 49.92 / 2.0\n",
    "sm.ifcs[16].max_aperture = 49.92 / 2.0\n",
    "sm.ifcs[17].max_aperture = 49.92 / 2.0\n",
    "sm.ifcs[18].max_aperture = 51.12 / 2.0\n",
    "sm.ifcs[19].max_aperture = 51.12 / 2.0\n",
    "sm.ifcs[20].max_aperture = 46.80 / 2.0\n",
    "sm.ifcs[21].max_aperture = 45.36 / 2.0\n",
    "sm.ifcs[22].max_aperture = 39.84 / 2.0\n",
    "sm.ifcs[23].max_aperture = 39.46 / 2.0\n",
    "sm.ifcs[24].max_aperture = 39.46 / 2.0\n",
    "sm.ifcs[25].max_aperture = 39.46 / 2.0\n",
    "sm.ifcs[26].max_aperture = 38.94 / 2.0\n",
    "sm.ifcs[27].max_aperture = 38.28 / 2.0\n",
    "sm.ifcs[28].max_aperture = 38.28 / 2.0\n",
    "sm.ifcs[29].max_aperture = 44.30 / 2.0\n",
    "\n",
    "\n",
    "sm.list_surfaces()"
   ]
  },
  {
   "cell_type": "code",
   "execution_count": 105,
   "metadata": {},
   "outputs": [
    {
     "name": "stdout",
     "output_type": "stream",
     "text": [
      "0 Gap(t=10000000000.0, medium=Air())\n",
      "1 Gap(t=7.65, medium=Glass(nd=1.90265, vd=35.77, mat='', cat=''))\n",
      "2 Gap(t=2.8, medium=Glass(nd=1.552981, vd=55.07, mat='', cat=''))\n",
      "3 Gap(t=18.12, medium=Air())\n",
      "4 Gap(t=2.8, medium=Glass(nd=1.61266, vd=44.46, mat='', cat=''))\n",
      "5 Gap(t=9.15, medium=Glass(nd=1.59319, vd=67.9, mat='', cat=''))\n",
      "6 Gap(t=0.4, medium=Air())\n",
      "7 Gap(t=10.95, medium=Glass(nd=1.8485, vd=43.79, mat='', cat=''))\n",
      "8 Gap(t=0.4, medium=Air())\n",
      "9 Gap(t=9.74, medium=Glass(nd=1.59319, vd=67.9, mat='', cat=''))\n",
      "10 Gap(t=0.2, medium=Air())\n",
      "11 Gap(t=8.0, medium=Glass(nd=1.59319, vd=67.9, mat='', cat=''))\n",
      "12 Gap(t=2.8, medium=Glass(nd=1.738, vd=32.33, mat='', cat=''))\n",
      "13 Gap(t=8.7, medium=Air())\n",
      "14 Gap(t=5.29, medium=Air())\n",
      "15 Gap(t=2.2, medium=Glass(nd=1.61266, vd=44.46, mat='', cat=''))\n",
      "16 Gap(t=11.55, medium=Glass(nd=1.49782, vd=82.57, mat='', cat=''))\n",
      "17 Gap(t=0.2, medium=Air())\n",
      "18 Gap(t=9.5, medium=Glass(nd=1.883, vd=40.69, mat='', cat=''))\n",
      "19 Gap(t=0.2, medium=Air())\n",
      "20 Gap(t=7.45, medium=Glass(nd=1.95375, vd=32.33, mat='', cat=''))\n",
      "21 Gap(t=1.8, medium=Glass(nd=1.738, vd=32.33, mat='', cat=''))\n",
      "22 Gap(t=2.68, medium=Air())\n",
      "23 Gap(t=6.35, medium=Glass(nd=1.883, vd=40.69, mat='', cat=''))\n",
      "24 Gap(t=1.81, medium=Glass(nd=1.69895, vd=30.13, mat='', cat=''))\n",
      "25 Gap(t=0.8, medium=Air())\n",
      "26 Gap(t=9.11, medium=Glass(nd=1.883, vd=40.69, mat='', cat=''))\n",
      "27 Gap(t=3.0, medium=Glass(nd=1.765538, vd=46.76, mat='', cat=''))\n",
      "28 Gap(t=14.5, medium=Air())\n",
      "29 Gap(t=1.0, medium=Glass(nd=1.5168, vd=64.14, mat='', cat=''))\n"
     ]
    }
   ],
   "source": [
    "sm.list_gaps()"
   ]
  },
  {
   "cell_type": "code",
   "execution_count": 106,
   "metadata": {},
   "outputs": [],
   "source": [
    "opm.update_model()"
   ]
  },
  {
   "cell_type": "code",
   "execution_count": 107,
   "metadata": {},
   "outputs": [
    {
     "name": "stdout",
     "output_type": "stream",
     "text": [
      "             r            t        medium     mode   zdr      sd\n",
      " Obj:     0.000000  1.00000e+10       air             1  3.6357e+09\n",
      "   1:   108.488000      7.65000   903.358             1      52.014\n",
      "   2:  -848.550000      2.80000   553.551             1      52.448\n",
      "   3:    50.252000      18.1200       air             1      43.977\n",
      "   4:   -60.720000      2.80000   613.445             1      29.140\n",
      "   5:  2497.500000      9.15000   593.679             1      32.660\n",
      "   6:   -77.239000     0.400000       air             1      32.660\n",
      "   7:   113.763000      10.9500   849.438             1      35.450\n",
      "   8:  -178.060000     0.400000       air             1      35.450\n",
      "   9:    70.659000      9.74000   593.679             1      32.500\n",
      "  10: -1968.500000     0.200000       air             1      32.500\n",
      "  11:   289.687000      8.00000   593.679             1      30.530\n",
      "  12:   -97.087000      2.80000   738.323             1      29.710\n",
      "  13:    47.074000      8.70000       air             1      25.120\n",
      "Stop:     0.000000      5.29000       air             1      23.959\n",
      "  15:   -95.230000      2.20000   613.445             1      24.960\n",
      "  16:    41.204000      11.5500   498.826             1      24.960\n",
      "  17:  -273.092000     0.200000       air             1      24.960\n",
      "  18:    76.173000      9.50000   883.407             1      25.560\n",
      "  19:  -101.575000     0.200000       air             1      25.560\n",
      "  20:   176.128000      7.45000   954.323             1      23.400\n",
      "  21:   -67.221000      1.80000   738.323             1      22.680\n",
      "  22:    55.510000      2.68000       air             1      19.920\n",
      "  23:    71.413000      6.35000   883.407             1      19.730\n",
      "  24:  -115.025000      1.81000   699.301             1      19.730\n",
      "  25:    46.943000     0.800000       air             1      19.730\n",
      "  26:    55.281000      9.11000   883.407             1      19.470\n",
      "  27:  -144.041000      3.00000   766.468             1      19.140\n",
      "  28:    52.858000      14.5000       air             1      19.140\n",
      "  29:     0.000000      1.00000   517.641             1      22.150\n",
      " Img:     0.000000      0.00000                       1      1.0000\n"
     ]
    }
   ],
   "source": [
    "sm.list_model()"
   ]
  },
  {
   "cell_type": "code",
   "execution_count": 108,
   "metadata": {},
   "outputs": [
    {
     "name": "stdout",
     "output_type": "stream",
     "text": [
      "efl               59.62\n",
      "ffl                1.66\n",
      "pp1               61.28\n",
      "bfl              -27.71\n",
      "ppk               87.33\n",
      "f/#                0.98\n",
      "m               0.02328\n",
      "red          -1.677e+08\n",
      "obj_dist          1e+10\n",
      "obj_ang           19.98\n",
      "enp_dist          69.29\n",
      "enp_radius        30.42\n",
      "na obj        3.042e-09\n",
      "n obj                 1\n",
      "img_dist              1\n",
      "img_ht            21.68\n",
      "exp_dist         -76.62\n",
      "exp_radius        26.82\n",
      "na img          -0.4836\n",
      "n img             1.517\n",
      "optical invariant        11.06\n"
     ]
    }
   ],
   "source": [
    "pm.first_order_data()"
   ]
  },
  {
   "cell_type": "code",
   "execution_count": 109,
   "metadata": {},
   "outputs": [],
   "source": [
    "opm.ele_model.elements_from_sequence(sm)"
   ]
  },
  {
   "cell_type": "code",
   "execution_count": 110,
   "metadata": {},
   "outputs": [],
   "source": [
    "elmn = [e for e in opm.ele_model.elements if isinstance(e, Element)]\n",
    "elmn[0].sd = 66.8/2\n",
    "elmn[1].sd = 65.82/2\n",
    "elmn[2].sd = 65.32/2\n",
    "elmn[3].sd = 65.32/2\n",
    "elmn[4].sd = 70.90/2\n",
    "elmn[5].sd = 65.0/2\n",
    "elmn[6].sd = 61.06/2\n",
    "elmn[7].sd = 59.42/2\n",
    "elmn[8].sd = 50.24/2\n",
    "elmn[9].sd = 49.92/2\n",
    "elmn[10].sd = 49.92/2\n",
    "elmn[11].sd = 51.12/2\n",
    "elmn[12].sd = 46.8/2\n",
    "elmn[13].sd = 45.36/2\n",
    "elmn[14].sd = 39.46/2\n",
    "elmn[15].sd = 39.46/2\n",
    "elmn[16].sd = 38.94/2\n",
    "elmn[17].sd = 44.3/2"
   ]
  },
  {
   "cell_type": "code",
   "execution_count": 111,
   "metadata": {},
   "outputs": [
    {
     "name": "stdout",
     "output_type": "stream",
     "text": [
      "0: E1 (Element): Element: EvenPolynomial(c=0.009217609320846545, cc=-1.0, coefs=[0.0, -3.82177e-07, -6.06486e-11, -3.80172e-15, -1.32266e-18]), Spherical(c=-0.0011784809380708267), t=7.6500, sd=33.4000, glass: 903.358\n",
      "1: E2 (Element): Element: Spherical(c=-0.0011784809380708267), Spherical(c=0.01989970548435883), t=2.8000, sd=32.9100, glass: 553.551\n",
      "2: AirGap E2-E3 (AirGap): Gap(t=18.12, medium=Air())\n",
      "3: E3 (Element): Element: Spherical(c=-0.016469038208168644), Spherical(c=0.0004004004004004004), t=2.8000, sd=32.6600, glass: 613.445\n",
      "4: E4 (Element): Element: Spherical(c=0.0004004004004004004), Spherical(c=-0.012946827379950543), t=9.1500, sd=32.6600, glass: 593.679\n",
      "5: AirGap E4-E5 (AirGap): Gap(t=0.4, medium=Air())\n",
      "6: E5 (Element): Element: Spherical(c=0.008790204196443482), Spherical(c=-0.005616084465910367), t=10.9500, sd=35.4500, glass: 849.438\n",
      "7: AirGap E5-E6 (AirGap): Gap(t=0.4, medium=Air())\n",
      "8: E6 (Element): Element: Spherical(c=0.014152478806662986), Spherical(c=-0.000508001016002032), t=9.7400, sd=32.5000, glass: 593.679\n",
      "9: AirGap E6-E7 (AirGap): Gap(t=0.2, medium=Air())\n",
      "10: E7 (Element): Element: Spherical(c=0.003452001643152782), Spherical(c=-0.010300040170156663), t=8.0000, sd=30.5300, glass: 593.679\n",
      "11: E8 (Element): Element: Spherical(c=-0.010300040170156663), Spherical(c=0.021243149084420276), t=2.8000, sd=29.7100, glass: 738.323\n",
      "12: AirGap E8-Aperture Stop (AirGap): Gap(t=8.7, medium=Air())\n",
      "13: Aperture Stop (DummyInterface): Surface(profile=Spherical(c=0.0), interact_mode=transmit)\n",
      "14: AirGap Aperture Stop-E9 (AirGap): Gap(t=5.29, medium=Air())\n",
      "15: E9 (Element): Element: Spherical(c=-0.01050089257586895), Spherical(c=0.024269488399184545), t=2.2000, sd=25.1200, glass: 613.445\n",
      "16: E10 (Element): Element: Spherical(c=0.024269488399184545), Spherical(c=-0.003661769660041305), t=11.5500, sd=24.9600, glass: 498.826\n",
      "17: AirGap E10-E11 (AirGap): Gap(t=0.2, medium=Air())\n",
      "18: E11 (Element): Element: Spherical(c=0.01312801123757762), Spherical(c=-0.009844942160964805), t=9.5000, sd=24.9600, glass: 883.407\n",
      "19: AirGap E11-E12 (AirGap): Gap(t=0.2, medium=Air())\n",
      "20: E12 (Element): Element: EvenPolynomial(c=0.005677688953488373, cc=-1.0, coefs=[0.0, -1.15028e-06, -4.51771e-10, 2.7267e-13, -7.66812e-17]), Spherical(c=-0.01487630353609735), t=7.4500, sd=25.5600, glass: 954.323\n",
      "21: E13 (Element): Element: Spherical(c=-0.01487630353609735), Spherical(c=0.01801477211313277), t=1.8000, sd=23.4000, glass: 738.323\n",
      "22: AirGap E13-E14 (AirGap): Gap(t=2.68, medium=Air())\n",
      "23: E14 (Element): Element: Spherical(c=0.014003052665481075), Spherical(c=-0.008693762225603129), t=6.3500, sd=22.6800, glass: 883.407\n",
      "24: E15 (Element): Element: Spherical(c=-0.008693762225603129), Spherical(c=0.021302430607332296), t=1.8100, sd=19.7300, glass: 699.301\n",
      "25: AirGap E15-E16 (AirGap): Gap(t=0.8, medium=Air())\n",
      "26: E16 (Element): Element: Spherical(c=0.018089397803947107), Spherical(c=-0.006942467769593379), t=9.1100, sd=19.7300, glass: 883.407\n",
      "27: E17 (Element): Element: Spherical(c=-0.006942467769593379), EvenPolynomial(c=0.0189186121306141, cc=-1.0, coefs=[0.0, 3.18645e-06, -1.14718e-08, 7.74567e-11, -2.24225e-13, 3.3479e-16, -1.7047e-19]), t=3.0000, sd=19.4700, glass: 766.468\n",
      "28: AirGap E17-E18 (AirGap): Gap(t=14.5, medium=Air())\n",
      "29: E18 (Element): Element: Spherical(c=0.0), Spherical(c=0.0), t=1.0000, sd=22.1500, glass: 517.641\n",
      "30: Image (DummyInterface): Surface(lbl='Img', profile=Spherical(c=0.0), interact_mode=transmit)\n"
     ]
    }
   ],
   "source": [
    "opm.ele_model.list_elements()"
   ]
  },
  {
   "cell_type": "code",
   "execution_count": 112,
   "metadata": {},
   "outputs": [
    {
     "data": {
      "image/png": "[encoded data removed]",
      "text/plain": [
       "<InteractiveLayout size 432x288 with 1 Axes>"
      ]
     },
     "metadata": {},
     "output_type": "display_data"
    }
   ],
   "source": [
    "#apply_paraxial_vignetting(opm)\n",
    "layout_plt = plt.figure(FigureClass=InteractiveLayout, opt_model=opm, do_draw_rays=True, do_paraxial_layout=False,\n",
    "                        is_dark=isdark).plot()"
   ]
  },
  {
   "cell_type": "code",
   "execution_count": 113,
   "metadata": {},
   "outputs": [],
   "source": [
    "#for i, ifc in enumerate(sm.ifcs): \n",
    "#    sd = abs(pm.ax[i][0]) + abs(pm.pr[i][0]) \n",
    "#    ifc.set_max_aperture(sd)"
   ]
  },
  {
   "cell_type": "code",
   "execution_count": 114,
   "metadata": {},
   "outputs": [],
   "source": [
    "#em = opm.ele_model \n",
    "#for i, e in enumerate(em.elements): \n",
    "#    if isinstance(e, elements.Element): \n",
    "#        sd1 = sm.ifcs[e.s1_indx].max_aperture \n",
    "#        sd2 = sm.ifcs[e.s2_indx].max_aperture \n",
    "#        e.sd = max(sd1, sd2)"
   ]
  },
  {
   "cell_type": "code",
   "execution_count": 115,
   "metadata": {},
   "outputs": [],
   "source": [
    "#layout_plt = plt.figure(FigureClass=InteractiveLayout, \n",
    "#                        opt_model=opm, do_draw_rays=False, do_paraxial_layout=False, is_dark=isdark).plot()"
   ]
  },
  {
   "cell_type": "code",
   "execution_count": 116,
   "metadata": {},
   "outputs": [],
   "source": [
    "#opm.ele_model.list_elements()"
   ]
  },
  {
   "cell_type": "code",
   "execution_count": 117,
   "metadata": {},
   "outputs": [
    {
     "ename": "TraceTIRError",
     "evalue": "(array([0.        , 0.26880816, 0.96319374]), array([-0.        ,  0.87507032,  0.48399579]), 1.559748017690377, 1.0)",
     "output_type": "error",
     "traceback": [
      "\u001b[1;31m---------------------------------------------------------------------------\u001b[0m",
      "\u001b[1;31mValueError\u001b[0m                                Traceback (most recent call last)",
      "\u001b[1;32mC:\\Software\\Python37\\lib\\site-packages\\rayoptics-0.6.4.post0.dev6+g30daf2e-py3.7.egg\\rayoptics\\raytr\\raytrace.py\u001b[0m in \u001b[0;36mbend\u001b[1;34m(d_in, normal, n_in, n_out)\u001b[0m\n\u001b[0;32m     28\u001b[0m         \u001b[0msinI_sqr\u001b[0m \u001b[1;33m=\u001b[0m \u001b[1;36m1.0\u001b[0m \u001b[1;33m-\u001b[0m \u001b[0mcosI\u001b[0m\u001b[1;33m*\u001b[0m\u001b[0mcosI\u001b[0m\u001b[1;33m\u001b[0m\u001b[1;33m\u001b[0m\u001b[0m\n\u001b[1;32m---> 29\u001b[1;33m         \u001b[0mn_cosIp\u001b[0m \u001b[1;33m=\u001b[0m \u001b[0mcopysign\u001b[0m\u001b[1;33m(\u001b[0m\u001b[0msqrt\u001b[0m\u001b[1;33m(\u001b[0m\u001b[0mn_out\u001b[0m\u001b[1;33m*\u001b[0m\u001b[0mn_out\u001b[0m \u001b[1;33m-\u001b[0m \u001b[0mn_in\u001b[0m\u001b[1;33m*\u001b[0m\u001b[0mn_in\u001b[0m\u001b[1;33m*\u001b[0m\u001b[0msinI_sqr\u001b[0m\u001b[1;33m)\u001b[0m\u001b[1;33m,\u001b[0m \u001b[0mcosI\u001b[0m\u001b[1;33m)\u001b[0m\u001b[1;33m\u001b[0m\u001b[1;33m\u001b[0m\u001b[0m\n\u001b[0m\u001b[0;32m     30\u001b[0m         \u001b[0malpha\u001b[0m \u001b[1;33m=\u001b[0m \u001b[0mn_cosIp\u001b[0m \u001b[1;33m-\u001b[0m \u001b[0mn_in\u001b[0m\u001b[1;33m*\u001b[0m\u001b[0mcosI\u001b[0m\u001b[1;33m\u001b[0m\u001b[1;33m\u001b[0m\u001b[0m\n",
      "\u001b[1;31mValueError\u001b[0m: math domain error",
      "\nDuring handling of the above exception, another exception occurred:\n",
      "\u001b[1;31mTraceTIRError\u001b[0m                             Traceback (most recent call last)",
      "\u001b[1;32m<ipython-input-117-33b46c81c6df>\u001b[0m in \u001b[0;36m<module>\u001b[1;34m\u001b[0m\n\u001b[0;32m      1\u001b[0m \u001b[1;31m# Plot the transverse ray aberrations\u001b[0m\u001b[1;33m\u001b[0m\u001b[1;33m\u001b[0m\u001b[1;33m\u001b[0m\u001b[0m\n\u001b[0;32m      2\u001b[0m abr_plt = plt.figure(FigureClass=RayFanFigure, opt_model=opm,\n\u001b[1;32m----> 3\u001b[1;33m           data_type='Ray', scale_type=Fit.All_Same, is_dark=isdark).plot()\n\u001b[0m\u001b[0;32m      4\u001b[0m \u001b[1;31m# Plot the wavefront aberration\u001b[0m\u001b[1;33m\u001b[0m\u001b[1;33m\u001b[0m\u001b[1;33m\u001b[0m\u001b[0m\n\u001b[0;32m      5\u001b[0m wav_plt = plt.figure(FigureClass=RayFanFigure, opt_model=opm,\n",
      "\u001b[1;32mC:\\Software\\Python37\\lib\\site-packages\\matplotlib\\pyplot.py\u001b[0m in \u001b[0;36mfigure\u001b[1;34m(num, figsize, dpi, facecolor, edgecolor, frameon, FigureClass, clear, **kwargs)\u001b[0m\n\u001b[0;32m    543\u001b[0m                                         \u001b[0mframeon\u001b[0m\u001b[1;33m=\u001b[0m\u001b[0mframeon\u001b[0m\u001b[1;33m,\u001b[0m\u001b[1;33m\u001b[0m\u001b[1;33m\u001b[0m\u001b[0m\n\u001b[0;32m    544\u001b[0m                                         \u001b[0mFigureClass\u001b[0m\u001b[1;33m=\u001b[0m\u001b[0mFigureClass\u001b[0m\u001b[1;33m,\u001b[0m\u001b[1;33m\u001b[0m\u001b[1;33m\u001b[0m\u001b[0m\n\u001b[1;32m--> 545\u001b[1;33m                                         **kwargs)\n\u001b[0m\u001b[0;32m    546\u001b[0m \u001b[1;33m\u001b[0m\u001b[0m\n\u001b[0;32m    547\u001b[0m         \u001b[1;32mif\u001b[0m \u001b[0mfigLabel\u001b[0m\u001b[1;33m:\u001b[0m\u001b[1;33m\u001b[0m\u001b[1;33m\u001b[0m\u001b[0m\n",
      "\u001b[1;32mC:\\Software\\Python37\\lib\\site-packages\\matplotlib\\backend_bases.py\u001b[0m in \u001b[0;36mnew_figure_manager\u001b[1;34m(cls, num, *args, **kwargs)\u001b[0m\n\u001b[0;32m   3249\u001b[0m         \u001b[1;32mfrom\u001b[0m \u001b[0mmatplotlib\u001b[0m\u001b[1;33m.\u001b[0m\u001b[0mfigure\u001b[0m \u001b[1;32mimport\u001b[0m \u001b[0mFigure\u001b[0m\u001b[1;33m\u001b[0m\u001b[1;33m\u001b[0m\u001b[0m\n\u001b[0;32m   3250\u001b[0m         \u001b[0mfig_cls\u001b[0m \u001b[1;33m=\u001b[0m \u001b[0mkwargs\u001b[0m\u001b[1;33m.\u001b[0m\u001b[0mpop\u001b[0m\u001b[1;33m(\u001b[0m\u001b[1;34m'FigureClass'\u001b[0m\u001b[1;33m,\u001b[0m \u001b[0mFigure\u001b[0m\u001b[1;33m)\u001b[0m\u001b[1;33m\u001b[0m\u001b[1;33m\u001b[0m\u001b[0m\n\u001b[1;32m-> 3251\u001b[1;33m         \u001b[0mfig\u001b[0m \u001b[1;33m=\u001b[0m \u001b[0mfig_cls\u001b[0m\u001b[1;33m(\u001b[0m\u001b[1;33m*\u001b[0m\u001b[0margs\u001b[0m\u001b[1;33m,\u001b[0m \u001b[1;33m**\u001b[0m\u001b[0mkwargs\u001b[0m\u001b[1;33m)\u001b[0m\u001b[1;33m\u001b[0m\u001b[1;33m\u001b[0m\u001b[0m\n\u001b[0m\u001b[0;32m   3252\u001b[0m         \u001b[1;32mreturn\u001b[0m \u001b[0mcls\u001b[0m\u001b[1;33m.\u001b[0m\u001b[0mnew_figure_manager_given_figure\u001b[0m\u001b[1;33m(\u001b[0m\u001b[0mnum\u001b[0m\u001b[1;33m,\u001b[0m \u001b[0mfig\u001b[0m\u001b[1;33m)\u001b[0m\u001b[1;33m\u001b[0m\u001b[1;33m\u001b[0m\u001b[0m\n\u001b[0;32m   3253\u001b[0m \u001b[1;33m\u001b[0m\u001b[0m\n",
      "\u001b[1;32mC:\\Software\\Python37\\lib\\site-packages\\rayoptics-0.6.4.post0.dev6+g30daf2e-py3.7.egg\\rayoptics\\mpl\\axisarrayfigure.py\u001b[0m in \u001b[0;36m__init__\u001b[1;34m(self, opt_model, data_type, override_style, **kwargs)\u001b[0m\n\u001b[0;32m    143\u001b[0m         \u001b[0mnum_flds\u001b[0m \u001b[1;33m=\u001b[0m \u001b[0mlen\u001b[0m\u001b[1;33m(\u001b[0m\u001b[0mosp\u001b[0m\u001b[1;33m.\u001b[0m\u001b[0mfield_of_view\u001b[0m\u001b[1;33m.\u001b[0m\u001b[0mfields\u001b[0m\u001b[1;33m)\u001b[0m\u001b[1;33m\u001b[0m\u001b[1;33m\u001b[0m\u001b[0m\n\u001b[0;32m    144\u001b[0m         super().__init__(opt_model, eval_fct=eval_fan,\n\u001b[1;32m--> 145\u001b[1;33m                          num_rows=num_flds, num_cols=2, **kwargs)\n\u001b[0m\u001b[0;32m    146\u001b[0m \u001b[1;33m\u001b[0m\u001b[0m\n\u001b[0;32m    147\u001b[0m     \u001b[1;32mdef\u001b[0m \u001b[0mupdate_data\u001b[0m\u001b[1;33m(\u001b[0m\u001b[0mself\u001b[0m\u001b[1;33m,\u001b[0m \u001b[0mbuild\u001b[0m\u001b[1;33m=\u001b[0m\u001b[1;34m'rebuild'\u001b[0m\u001b[1;33m,\u001b[0m \u001b[1;33m**\u001b[0m\u001b[0mkwargs\u001b[0m\u001b[1;33m)\u001b[0m\u001b[1;33m:\u001b[0m\u001b[1;33m\u001b[0m\u001b[1;33m\u001b[0m\u001b[0m\n",
      "\u001b[1;32mC:\\Software\\Python37\\lib\\site-packages\\rayoptics-0.6.4.post0.dev6+g30daf2e-py3.7.egg\\rayoptics\\mpl\\axisarrayfigure.py\u001b[0m in \u001b[0;36m__init__\u001b[1;34m(self, opt_model, num_rays, scale_type, user_scale_value, num_rows, num_cols, eval_fct, **kwargs)\u001b[0m\n\u001b[0;32m     59\u001b[0m         \u001b[0mself\u001b[0m\u001b[1;33m.\u001b[0m\u001b[0mnum_rows\u001b[0m \u001b[1;33m=\u001b[0m \u001b[0mnum_rows\u001b[0m\u001b[1;33m\u001b[0m\u001b[1;33m\u001b[0m\u001b[0m\n\u001b[0;32m     60\u001b[0m         \u001b[0mself\u001b[0m\u001b[1;33m.\u001b[0m\u001b[0mnum_cols\u001b[0m \u001b[1;33m=\u001b[0m \u001b[0mnum_cols\u001b[0m\u001b[1;33m\u001b[0m\u001b[1;33m\u001b[0m\u001b[0m\n\u001b[1;32m---> 61\u001b[1;33m         \u001b[0mself\u001b[0m\u001b[1;33m.\u001b[0m\u001b[0mupdate_data\u001b[0m\u001b[1;33m(\u001b[0m\u001b[1;33m)\u001b[0m\u001b[1;33m\u001b[0m\u001b[1;33m\u001b[0m\u001b[0m\n\u001b[0m\u001b[0;32m     62\u001b[0m \u001b[1;33m\u001b[0m\u001b[0m\n\u001b[0;32m     63\u001b[0m     \u001b[1;32mdef\u001b[0m \u001b[0minit_axis\u001b[0m\u001b[1;33m(\u001b[0m\u001b[0mself\u001b[0m\u001b[1;33m,\u001b[0m \u001b[0max\u001b[0m\u001b[1;33m)\u001b[0m\u001b[1;33m:\u001b[0m\u001b[1;33m\u001b[0m\u001b[1;33m\u001b[0m\u001b[0m\n",
      "\u001b[1;32mC:\\Software\\Python37\\lib\\site-packages\\rayoptics-0.6.4.post0.dev6+g30daf2e-py3.7.egg\\rayoptics\\mpl\\axisarrayfigure.py\u001b[0m in \u001b[0;36mupdate_data\u001b[1;34m(self, build, **kwargs)\u001b[0m\n\u001b[0;32m    152\u001b[0m                 \u001b[0mx_smooth\u001b[0m \u001b[1;33m=\u001b[0m \u001b[1;33m[\u001b[0m\u001b[1;33m]\u001b[0m\u001b[1;33m\u001b[0m\u001b[1;33m\u001b[0m\u001b[0m\n\u001b[0;32m    153\u001b[0m                 \u001b[0my_smooth\u001b[0m \u001b[1;33m=\u001b[0m \u001b[1;33m[\u001b[0m\u001b[1;33m]\u001b[0m\u001b[1;33m\u001b[0m\u001b[1;33m\u001b[0m\u001b[0m\n\u001b[1;32m--> 154\u001b[1;33m                 \u001b[0mx_data\u001b[0m\u001b[1;33m,\u001b[0m \u001b[0my_data\u001b[0m\u001b[1;33m,\u001b[0m \u001b[0mmax_value\u001b[0m\u001b[1;33m,\u001b[0m \u001b[0mrc\u001b[0m \u001b[1;33m=\u001b[0m \u001b[0mself\u001b[0m\u001b[1;33m.\u001b[0m\u001b[0meval_fct\u001b[0m\u001b[1;33m(\u001b[0m\u001b[0mi\u001b[0m\u001b[1;33m,\u001b[0m \u001b[0mj\u001b[0m\u001b[1;33m)\u001b[0m\u001b[1;33m\u001b[0m\u001b[1;33m\u001b[0m\u001b[0m\n\u001b[0m\u001b[0;32m    155\u001b[0m \u001b[1;31m#                x_data, y_data, max_value, rc = self.eval_axis_data(i, j)\u001b[0m\u001b[1;33m\u001b[0m\u001b[1;33m\u001b[0m\u001b[1;33m\u001b[0m\u001b[0m\n\u001b[0;32m    156\u001b[0m \u001b[1;31m#                rc = clip_to_range(rc, 0.0, 1.0)\u001b[0m\u001b[1;33m\u001b[0m\u001b[1;33m\u001b[0m\u001b[1;33m\u001b[0m\u001b[0m\n",
      "\u001b[1;32mC:\\Software\\Python37\\lib\\site-packages\\rayoptics-0.6.4.post0.dev6+g30daf2e-py3.7.egg\\rayoptics\\mpl\\axisarrayfigure.py\u001b[0m in \u001b[0;36meval_abr_fan\u001b[1;34m(i, j)\u001b[0m\n\u001b[0;32m    131\u001b[0m         \u001b[1;32mdef\u001b[0m \u001b[0meval_abr_fan\u001b[0m\u001b[1;33m(\u001b[0m\u001b[0mi\u001b[0m\u001b[1;33m,\u001b[0m \u001b[0mj\u001b[0m\u001b[1;33m)\u001b[0m\u001b[1;33m:\u001b[0m\u001b[1;33m\u001b[0m\u001b[1;33m\u001b[0m\u001b[0m\n\u001b[0;32m    132\u001b[0m             \u001b[0mfld\u001b[0m\u001b[1;33m,\u001b[0m \u001b[0mwvl\u001b[0m\u001b[1;33m,\u001b[0m \u001b[0mfoc\u001b[0m \u001b[1;33m=\u001b[0m \u001b[0mosp\u001b[0m\u001b[1;33m.\u001b[0m\u001b[0mlookup_fld_wvl_focus\u001b[0m\u001b[1;33m(\u001b[0m\u001b[0mi\u001b[0m\u001b[1;33m)\u001b[0m\u001b[1;33m\u001b[0m\u001b[1;33m\u001b[0m\u001b[0m\n\u001b[1;32m--> 133\u001b[1;33m             \u001b[1;32mreturn\u001b[0m \u001b[0mseq_model\u001b[0m\u001b[1;33m.\u001b[0m\u001b[0mtrace_fan\u001b[0m\u001b[1;33m(\u001b[0m\u001b[0mray_abr\u001b[0m\u001b[1;33m,\u001b[0m \u001b[0mi\u001b[0m\u001b[1;33m,\u001b[0m \u001b[0mj\u001b[0m\u001b[1;33m,\u001b[0m \u001b[0mnum_rays\u001b[0m\u001b[1;33m=\u001b[0m\u001b[0mself\u001b[0m\u001b[1;33m.\u001b[0m\u001b[0mnum_rays\u001b[0m\u001b[1;33m)\u001b[0m\u001b[1;33m\u001b[0m\u001b[1;33m\u001b[0m\u001b[0m\n\u001b[0m\u001b[0;32m    134\u001b[0m \u001b[1;33m\u001b[0m\u001b[0m\n\u001b[0;32m    135\u001b[0m         \u001b[1;32mdef\u001b[0m \u001b[0meval_opd_fan\u001b[0m\u001b[1;33m(\u001b[0m\u001b[0mi\u001b[0m\u001b[1;33m,\u001b[0m \u001b[0mj\u001b[0m\u001b[1;33m)\u001b[0m\u001b[1;33m:\u001b[0m\u001b[1;33m\u001b[0m\u001b[1;33m\u001b[0m\u001b[0m\n",
      "\u001b[1;32mC:\\Software\\Python37\\lib\\site-packages\\rayoptics-0.6.4.post0.dev6+g30daf2e-py3.7.egg\\rayoptics\\seq\\sequential.py\u001b[0m in \u001b[0;36mtrace_fan\u001b[1;34m(self, fct, fi, xy, num_rays)\u001b[0m\n\u001b[0;32m    568\u001b[0m             \u001b[0mfld\u001b[0m\u001b[1;33m.\u001b[0m\u001b[0mref_sphere\u001b[0m \u001b[1;33m=\u001b[0m \u001b[0mrs_pkg\u001b[0m\u001b[1;33m\u001b[0m\u001b[1;33m\u001b[0m\u001b[0m\n\u001b[0;32m    569\u001b[0m             fan = trace.trace_fan(self.opt_model, fan_def, fld, wvl, foc,\n\u001b[1;32m--> 570\u001b[1;33m                                   \u001b[0mimg_filter\u001b[0m\u001b[1;33m=\u001b[0m\u001b[1;32mlambda\u001b[0m \u001b[0mp\u001b[0m\u001b[1;33m,\u001b[0m \u001b[0mray_pkg\u001b[0m\u001b[1;33m:\u001b[0m\u001b[1;33m\u001b[0m\u001b[1;33m\u001b[0m\u001b[0m\n\u001b[0m\u001b[0;32m    571\u001b[0m                                   fct(p, xy, ray_pkg, fld, wvl, foc))\n\u001b[0;32m    572\u001b[0m             \u001b[0mf_x\u001b[0m \u001b[1;33m=\u001b[0m \u001b[1;33m[\u001b[0m\u001b[1;33m]\u001b[0m\u001b[1;33m\u001b[0m\u001b[1;33m\u001b[0m\u001b[0m\n",
      "\u001b[1;32mC:\\Software\\Python37\\lib\\site-packages\\rayoptics-0.6.4.post0.dev6+g30daf2e-py3.7.egg\\rayoptics\\raytr\\trace.py\u001b[0m in \u001b[0;36mtrace_fan\u001b[1;34m(opt_model, fan_rng, fld, wvl, foc, img_filter, **kwargs)\u001b[0m\n\u001b[0;32m    350\u001b[0m     \u001b[1;32mfor\u001b[0m \u001b[0mr\u001b[0m \u001b[1;32min\u001b[0m \u001b[0mrange\u001b[0m\u001b[1;33m(\u001b[0m\u001b[0mnum\u001b[0m\u001b[1;33m)\u001b[0m\u001b[1;33m:\u001b[0m\u001b[1;33m\u001b[0m\u001b[1;33m\u001b[0m\u001b[0m\n\u001b[0;32m    351\u001b[0m         \u001b[0mpupil\u001b[0m \u001b[1;33m=\u001b[0m \u001b[0mnp\u001b[0m\u001b[1;33m.\u001b[0m\u001b[0marray\u001b[0m\u001b[1;33m(\u001b[0m\u001b[0mstart\u001b[0m\u001b[1;33m)\u001b[0m\u001b[1;33m\u001b[0m\u001b[1;33m\u001b[0m\u001b[0m\n\u001b[1;32m--> 352\u001b[1;33m         \u001b[0mray\u001b[0m\u001b[1;33m,\u001b[0m \u001b[0mop\u001b[0m\u001b[1;33m,\u001b[0m \u001b[0mwvl\u001b[0m \u001b[1;33m=\u001b[0m \u001b[0mtrace_base\u001b[0m\u001b[1;33m(\u001b[0m\u001b[0mopt_model\u001b[0m\u001b[1;33m,\u001b[0m \u001b[0mpupil\u001b[0m\u001b[1;33m,\u001b[0m \u001b[0mfld\u001b[0m\u001b[1;33m,\u001b[0m \u001b[0mwvl\u001b[0m\u001b[1;33m,\u001b[0m \u001b[1;33m**\u001b[0m\u001b[0mkwargs\u001b[0m\u001b[1;33m)\u001b[0m\u001b[1;33m\u001b[0m\u001b[1;33m\u001b[0m\u001b[0m\n\u001b[0m\u001b[0;32m    353\u001b[0m         \u001b[1;31m# opl = rt.calc_optical_path(ray, opt_model.seq_model.path())\u001b[0m\u001b[1;33m\u001b[0m\u001b[1;33m\u001b[0m\u001b[1;33m\u001b[0m\u001b[0m\n\u001b[0;32m    354\u001b[0m         \u001b[0mray_pkg\u001b[0m \u001b[1;33m=\u001b[0m \u001b[0mray\u001b[0m\u001b[1;33m,\u001b[0m \u001b[0mop\u001b[0m\u001b[1;33m,\u001b[0m \u001b[0mwvl\u001b[0m\u001b[1;33m\u001b[0m\u001b[1;33m\u001b[0m\u001b[0m\n",
      "\u001b[1;32mC:\\Software\\Python37\\lib\\site-packages\\rayoptics-0.6.4.post0.dev6+g30daf2e-py3.7.egg\\rayoptics\\raytr\\trace.py\u001b[0m in \u001b[0;36mtrace_base\u001b[1;34m(opt_model, pupil, fld, wvl, **kwargs)\u001b[0m\n\u001b[0;32m    150\u001b[0m     \u001b[0mlength\u001b[0m \u001b[1;33m=\u001b[0m \u001b[0mnorm\u001b[0m\u001b[1;33m(\u001b[0m\u001b[0mdir0\u001b[0m\u001b[1;33m)\u001b[0m\u001b[1;33m\u001b[0m\u001b[1;33m\u001b[0m\u001b[0m\n\u001b[0;32m    151\u001b[0m     \u001b[0mdir0\u001b[0m \u001b[1;33m=\u001b[0m \u001b[0mdir0\u001b[0m\u001b[1;33m/\u001b[0m\u001b[0mlength\u001b[0m\u001b[1;33m\u001b[0m\u001b[1;33m\u001b[0m\u001b[0m\n\u001b[1;32m--> 152\u001b[1;33m     \u001b[1;32mreturn\u001b[0m \u001b[0mrt\u001b[0m\u001b[1;33m.\u001b[0m\u001b[0mtrace\u001b[0m\u001b[1;33m(\u001b[0m\u001b[0mopt_model\u001b[0m\u001b[1;33m.\u001b[0m\u001b[0mseq_model\u001b[0m\u001b[1;33m,\u001b[0m \u001b[0mpt0\u001b[0m\u001b[1;33m,\u001b[0m \u001b[0mdir0\u001b[0m\u001b[1;33m,\u001b[0m \u001b[0mwvl\u001b[0m\u001b[1;33m,\u001b[0m \u001b[1;33m**\u001b[0m\u001b[0mkwargs\u001b[0m\u001b[1;33m)\u001b[0m\u001b[1;33m\u001b[0m\u001b[1;33m\u001b[0m\u001b[0m\n\u001b[0m\u001b[0;32m    153\u001b[0m \u001b[1;33m\u001b[0m\u001b[0m\n\u001b[0;32m    154\u001b[0m \u001b[1;33m\u001b[0m\u001b[0m\n",
      "\u001b[1;32mC:\\Software\\Python37\\lib\\site-packages\\rayoptics-0.6.4.post0.dev6+g30daf2e-py3.7.egg\\rayoptics\\raytr\\raytrace.py\u001b[0m in \u001b[0;36mtrace\u001b[1;34m(seq_model, pt0, dir0, wvl, **kwargs)\u001b[0m\n\u001b[0;32m     82\u001b[0m     kwargs['last_surf'] = kwargs.get('last_surf',\n\u001b[0;32m     83\u001b[0m                                      seq_model.get_num_surfaces()-2)\n\u001b[1;32m---> 84\u001b[1;33m     \u001b[1;32mreturn\u001b[0m \u001b[0mtrace_raw\u001b[0m\u001b[1;33m(\u001b[0m\u001b[0mpath\u001b[0m\u001b[1;33m,\u001b[0m \u001b[0mpt0\u001b[0m\u001b[1;33m,\u001b[0m \u001b[0mdir0\u001b[0m\u001b[1;33m,\u001b[0m \u001b[0mwvl\u001b[0m\u001b[1;33m,\u001b[0m \u001b[1;33m**\u001b[0m\u001b[0mkwargs\u001b[0m\u001b[1;33m)\u001b[0m\u001b[1;33m\u001b[0m\u001b[1;33m\u001b[0m\u001b[0m\n\u001b[0m\u001b[0;32m     85\u001b[0m \u001b[1;33m\u001b[0m\u001b[0m\n\u001b[0;32m     86\u001b[0m \u001b[1;33m\u001b[0m\u001b[0m\n",
      "\u001b[1;32mC:\\Software\\Python37\\lib\\site-packages\\rayoptics-0.6.4.post0.dev6+g30daf2e-py3.7.egg\\rayoptics\\raytr\\raytrace.py\u001b[0m in \u001b[0;36mtrace_raw\u001b[1;34m(path, pt0, dir0, wvl, eps, **kwargs)\u001b[0m\n\u001b[0;32m    236\u001b[0m             \u001b[0mray_tir\u001b[0m\u001b[1;33m.\u001b[0m\u001b[0mint_pt\u001b[0m \u001b[1;33m=\u001b[0m \u001b[0minc_pt\u001b[0m\u001b[1;33m\u001b[0m\u001b[1;33m\u001b[0m\u001b[0m\n\u001b[0;32m    237\u001b[0m             \u001b[0mray_tir\u001b[0m\u001b[1;33m.\u001b[0m\u001b[0mray\u001b[0m \u001b[1;33m=\u001b[0m \u001b[0mray\u001b[0m\u001b[1;33m\u001b[0m\u001b[1;33m\u001b[0m\u001b[0m\n\u001b[1;32m--> 238\u001b[1;33m             \u001b[1;32mraise\u001b[0m \u001b[0mray_tir\u001b[0m\u001b[1;33m\u001b[0m\u001b[1;33m\u001b[0m\u001b[0m\n\u001b[0m\u001b[0;32m    239\u001b[0m \u001b[1;33m\u001b[0m\u001b[0m\n\u001b[0;32m    240\u001b[0m         \u001b[1;32mexcept\u001b[0m \u001b[0mTraceEvanescentRayError\u001b[0m \u001b[1;32mas\u001b[0m \u001b[0mray_evn\u001b[0m\u001b[1;33m:\u001b[0m\u001b[1;33m\u001b[0m\u001b[1;33m\u001b[0m\u001b[0m\n",
      "\u001b[1;32mC:\\Software\\Python37\\lib\\site-packages\\rayoptics-0.6.4.post0.dev6+g30daf2e-py3.7.egg\\rayoptics\\raytr\\raytrace.py\u001b[0m in \u001b[0;36mtrace_raw\u001b[1;34m(path, pt0, dir0, wvl, eps, **kwargs)\u001b[0m\n\u001b[0;32m    187\u001b[0m                 \u001b[0mafter_dir\u001b[0m \u001b[1;33m=\u001b[0m \u001b[0mreflect\u001b[0m\u001b[1;33m(\u001b[0m\u001b[0mb4_dir\u001b[0m\u001b[1;33m,\u001b[0m \u001b[0mnormal\u001b[0m\u001b[1;33m)\u001b[0m\u001b[1;33m\u001b[0m\u001b[1;33m\u001b[0m\u001b[0m\n\u001b[0;32m    188\u001b[0m             \u001b[1;32melif\u001b[0m \u001b[0mifc\u001b[0m\u001b[1;33m.\u001b[0m\u001b[0minteract_mode\u001b[0m \u001b[1;33m==\u001b[0m \u001b[1;34m'transmit'\u001b[0m\u001b[1;33m:\u001b[0m\u001b[1;33m\u001b[0m\u001b[1;33m\u001b[0m\u001b[0m\n\u001b[1;32m--> 189\u001b[1;33m                 \u001b[0mafter_dir\u001b[0m \u001b[1;33m=\u001b[0m \u001b[0mbend\u001b[0m\u001b[1;33m(\u001b[0m\u001b[0mb4_dir\u001b[0m\u001b[1;33m,\u001b[0m \u001b[0mnormal\u001b[0m\u001b[1;33m,\u001b[0m \u001b[0mbefore\u001b[0m\u001b[1;33m[\u001b[0m\u001b[0mIndx\u001b[0m\u001b[1;33m]\u001b[0m\u001b[1;33m,\u001b[0m \u001b[0mafter\u001b[0m\u001b[1;33m[\u001b[0m\u001b[0mIndx\u001b[0m\u001b[1;33m]\u001b[0m\u001b[1;33m)\u001b[0m\u001b[1;33m\u001b[0m\u001b[1;33m\u001b[0m\u001b[0m\n\u001b[0m\u001b[0;32m    190\u001b[0m             \u001b[1;32melse\u001b[0m\u001b[1;33m:\u001b[0m  \u001b[1;31m# no action, input becomes output\u001b[0m\u001b[1;33m\u001b[0m\u001b[1;33m\u001b[0m\u001b[0m\n\u001b[0;32m    191\u001b[0m                 \u001b[0mafter_dir\u001b[0m \u001b[1;33m=\u001b[0m \u001b[0mb4_dir\u001b[0m\u001b[1;33m\u001b[0m\u001b[1;33m\u001b[0m\u001b[0m\n",
      "\u001b[1;32mC:\\Software\\Python37\\lib\\site-packages\\rayoptics-0.6.4.post0.dev6+g30daf2e-py3.7.egg\\rayoptics\\raytr\\raytrace.py\u001b[0m in \u001b[0;36mbend\u001b[1;34m(d_in, normal, n_in, n_out)\u001b[0m\n\u001b[0;32m     32\u001b[0m         \u001b[1;32mreturn\u001b[0m \u001b[0md_out\u001b[0m\u001b[1;33m\u001b[0m\u001b[1;33m\u001b[0m\u001b[0m\n\u001b[0;32m     33\u001b[0m     \u001b[1;32mexcept\u001b[0m \u001b[0mValueError\u001b[0m\u001b[1;33m:\u001b[0m\u001b[1;33m\u001b[0m\u001b[1;33m\u001b[0m\u001b[0m\n\u001b[1;32m---> 34\u001b[1;33m         \u001b[1;32mraise\u001b[0m \u001b[0mTraceTIRError\u001b[0m\u001b[1;33m(\u001b[0m\u001b[0md_in\u001b[0m\u001b[1;33m,\u001b[0m \u001b[0mnormal\u001b[0m\u001b[1;33m,\u001b[0m \u001b[0mn_in\u001b[0m\u001b[1;33m,\u001b[0m \u001b[0mn_out\u001b[0m\u001b[1;33m)\u001b[0m\u001b[1;33m\u001b[0m\u001b[1;33m\u001b[0m\u001b[0m\n\u001b[0m\u001b[0;32m     35\u001b[0m \u001b[1;33m\u001b[0m\u001b[0m\n\u001b[0;32m     36\u001b[0m \u001b[1;33m\u001b[0m\u001b[0m\n",
      "\u001b[1;31mTraceTIRError\u001b[0m: (array([0.        , 0.26880816, 0.96319374]), array([-0.        ,  0.87507032,  0.48399579]), 1.559748017690377, 1.0)"
     ]
    }
   ],
   "source": [
    "# Plot the transverse ray aberrations\n",
    "abr_plt = plt.figure(FigureClass=RayFanFigure, opt_model=opm,\n",
    "          data_type='Ray', scale_type=Fit.All_Same, is_dark=isdark).plot()\n",
    "# Plot the wavefront aberration\n",
    "wav_plt = plt.figure(FigureClass=RayFanFigure, opt_model=opm,\n",
    "          data_type='OPD', scale_type=Fit.All_Same, is_dark=isdark).plot()\n",
    "# Plot spot diagrams\n",
    "spot_plt = plt.figure(FigureClass=SpotDiagramFigure, opt_model=opm,\n",
    "                      scale_type=Fit.User_Scale, user_scale_value=0.1, is_dark=isdark).plot()"
   ]
  },
  {
   "cell_type": "code",
   "execution_count": null,
   "metadata": {},
   "outputs": [],
   "source": []
  }
 ],
 "metadata": {
  "kernelspec": {
   "display_name": "Python 3",
   "language": "python",
   "name": "python3"
  },
  "language_info": {
   "codemirror_mode": {
    "name": "ipython",
    "version": 3
   },
   "file_extension": ".py",
   "mimetype": "text/x-python",
   "name": "python",
   "nbconvert_exporter": "python",
   "pygments_lexer": "ipython3",
   "version": "3.7.3"
  }
 },
 "nbformat": 4,
 "nbformat_minor": 2
}
