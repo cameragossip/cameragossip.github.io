{
 "cells": [
  {
   "cell_type": "code",
   "execution_count": 1,
   "metadata": {},
   "outputs": [],
   "source": [
    "%matplotlib inline\n",
    "isdark = False"
   ]
  },
  {
   "cell_type": "code",
   "execution_count": 2,
   "metadata": {},
   "outputs": [],
   "source": [
    "from rayoptics.environment import *"
   ]
  },
  {
   "cell_type": "code",
   "execution_count": 138,
   "metadata": {},
   "outputs": [],
   "source": [
    "opm = OpticalModel()\n",
    "sm  = opm.seq_model\n",
    "osp = opm.optical_spec\n",
    "pm = opm.parax_model"
   ]
  },
  {
   "cell_type": "code",
   "execution_count": 139,
   "metadata": {},
   "outputs": [],
   "source": [
    "osp.pupil = PupilSpec(osp, key=['object', 'pupil'], value=60.84)\n",
    "#osp.pupil = PupilSpec(osp, key=['object', 'f/#'], value=0.98)\n",
    "osp.field_of_view = FieldSpec(osp, key=['object', 'angle'], flds=[0., 19.98])"
   ]
  },
  {
   "cell_type": "code",
   "execution_count": 140,
   "metadata": {},
   "outputs": [],
   "source": [
    "osp.spectral_region = WvlSpec([(486.1327, 0.5), (587.5618, 1.0), (656.2725, 0.5)], ref_wl=1)"
   ]
  },
  {
   "cell_type": "code",
   "execution_count": 141,
   "metadata": {},
   "outputs": [],
   "source": [
    "opm.system_spec.title = 'Nikkor Z 58mm f0.95 - WO 2019/229849 Example 1'\n",
    "opm.system_spec.dimensions = 'MM'"
   ]
  },
  {
   "cell_type": "code",
   "execution_count": 142,
   "metadata": {},
   "outputs": [],
   "source": [
    "opm.radius_mode = True"
   ]
  },
  {
   "cell_type": "code",
   "execution_count": 143,
   "metadata": {},
   "outputs": [
    {
     "name": "stdout",
     "output_type": "stream",
     "text": [
      "0 Surface(lbl='Obj', profile=Spherical(c=0.0), interact_mode=transmit)\n",
      "1 Surface(profile=EvenPolynomial(c=0.009217609320846545, cc=-2.0, coefs=[0.0, -3.82177e-07, -6.06486e-11, -3.80172e-15, -1.32266e-18]), interact_mode=transmit)\n",
      "2 Surface(profile=Spherical(c=-0.0011784809380708267), interact_mode=transmit)\n",
      "3 Surface(profile=Spherical(c=0.01989970548435883), interact_mode=transmit)\n",
      "4 Surface(profile=Spherical(c=-0.016469038208168644), interact_mode=transmit)\n",
      "5 Surface(profile=Spherical(c=0.0004004004004004004), interact_mode=transmit)\n",
      "6 Surface(profile=Spherical(c=-0.012946827379950543), interact_mode=transmit)\n",
      "7 Surface(profile=Spherical(c=0.008790204196443482), interact_mode=transmit)\n",
      "8 Surface(profile=Spherical(c=-0.005616084465910367), interact_mode=transmit)\n",
      "9 Surface(profile=Spherical(c=0.014152478806662986), interact_mode=transmit)\n",
      "10 Surface(profile=Spherical(c=-0.000508001016002032), interact_mode=transmit)\n",
      "11 Surface(profile=Spherical(c=0.003452001643152782), interact_mode=transmit)\n",
      "12 Surface(profile=Spherical(c=-0.010300040170156663), interact_mode=transmit)\n",
      "13 Surface(profile=Spherical(c=0.021243149084420276), interact_mode=transmit)\n",
      "14 Surface(profile=Spherical(c=0.0), interact_mode=transmit)\n",
      "15 Surface(profile=Spherical(c=-0.01050089257586895), interact_mode=transmit)\n",
      "16 Surface(profile=Spherical(c=0.024269488399184545), interact_mode=transmit)\n",
      "17 Surface(profile=Spherical(c=-0.003661769660041305), interact_mode=transmit)\n",
      "18 Surface(profile=Spherical(c=0.01312801123757762), interact_mode=transmit)\n",
      "19 Surface(profile=Spherical(c=-0.009844942160964805), interact_mode=transmit)\n",
      "20 Surface(profile=EvenPolynomial(c=0.005677688953488373, cc=-2.0, coefs=[0.0, -1.15028e-06, -4.51771e-10, 2.7267e-13, -7.66812e-17]), interact_mode=transmit)\n",
      "21 Surface(profile=Spherical(c=-0.01487630353609735), interact_mode=transmit)\n",
      "22 Surface(profile=Spherical(c=0.01801477211313277), interact_mode=transmit)\n",
      "23 Surface(profile=Spherical(c=0.014003052665481075), interact_mode=transmit)\n",
      "24 Surface(profile=Spherical(c=-0.008693762225603129), interact_mode=transmit)\n",
      "25 Surface(profile=Spherical(c=0.021302430607332296), interact_mode=transmit)\n",
      "26 Surface(profile=Spherical(c=0.018089397803947107), interact_mode=transmit)\n",
      "27 Surface(profile=Spherical(c=-0.006942467769593379), interact_mode=transmit)\n",
      "28 Surface(profile=EvenPolynomial(c=0.0189186121306141, cc=-2.0, coefs=[0.0, 3.18645e-06, -1.14718e-08, 7.74567e-11, -2.24225e-13, 3.3479e-16, -1.7047e-19]), interact_mode=transmit)\n",
      "29 Surface(profile=Spherical(c=0.0), interact_mode=transmit)\n",
      "30 Surface(profile=Spherical(c=0.0), interact_mode=transmit)\n",
      "31 Surface(lbl='Img', profile=Spherical(c=0.0), interact_mode=transmit)\n"
     ]
    }
   ],
   "source": [
    "d22 = 2.68\n",
    "sm.gaps[0].thi=1e10\n",
    "sm.add_surface([108.488,7.65,1.902650,35.77])   \n",
    "sm.add_surface([-848.550,2.80,1.552981,55.07])  \n",
    "sm.add_surface([50.252,18.12])\n",
    "sm.add_surface([-60.720,2.80,1.612660,44.46])\n",
    "sm.add_surface([2497.500,9.15,1.593190,67.90])\n",
    "sm.add_surface([-77.239,0.40])\n",
    "sm.add_surface([113.763,10.95,1.848500,43.79])\n",
    "sm.add_surface([-178.060,0.40])\n",
    "sm.add_surface([70.659,9.74,1.593190,67.90])\n",
    "sm.add_surface([-1968.500,0.20])\n",
    "sm.add_surface([289.687,8.00,1.593190,67.90])\n",
    "sm.add_surface([-97.087,2.80,1.738000,32.33])\n",
    "sm.add_surface([47.074,8.70])\n",
    "sm.add_surface([0, 5.29])\n",
    "sm.set_stop()\n",
    "sm.add_surface([-95.230,2.20,1.612660,44.46])\n",
    "sm.add_surface([41.204,11.55,1.497820,82.57])\n",
    "sm.add_surface([-273.092,0.20])\n",
    "sm.add_surface([76.173,9.50,1.883000,40.69])\n",
    "sm.add_surface([-101.575,0.20])\n",
    "sm.add_surface([176.128,7.45,1.953750,32.33])\n",
    "sm.add_surface([-67.221,1.80,1.738000,32.33])\n",
    "sm.add_surface([55.510,d22])\n",
    "sm.add_surface([71.413,6.35,1.883000,40.69])\n",
    "sm.add_surface([-115.025,1.81,1.698950,30.13])\n",
    "sm.add_surface([46.943,0.80])\n",
    "sm.add_surface([55.281,9.11,1.883000,40.69])\n",
    "sm.add_surface([-144.041,3.00,1.765538,46.76])\n",
    "sm.add_surface([52.858,14.50])\n",
    "sm.add_surface([0,1.60,1.516800,64.14])\n",
    "sm.add_surface([0,1.00])\n",
    "\n",
    "asp1 = EvenPolynomial(r=108.488, ec=0.,\n",
    "                        coefs=[0.,-3.82177E-07,-6.06486E-11,-3.80172E-15,-1.32266E-18])\n",
    "asp20 = EvenPolynomial(r=176.128, ec=0.,\n",
    "                        coefs=[0.,-1.15028E-06,-4.51771E-10,2.72670E-13,-7.66812E-17])\n",
    "asp28 = EvenPolynomial(r=52.858, ec=0.,\n",
    "                        coefs=[0.,3.18645E-06,-1.14718E-08,7.74567E-11,-2.24225E-13,3.34790E-16,-1.70470E-19])\n",
    "\n",
    "sm.ifcs[1].profile = asp1\n",
    "sm.ifcs[20].profile = asp20\n",
    "sm.ifcs[28].profile = asp28\n",
    "\n",
    "sm.list_surfaces()"
   ]
  },
  {
   "cell_type": "code",
   "execution_count": 144,
   "metadata": {},
   "outputs": [
    {
     "name": "stdout",
     "output_type": "stream",
     "text": [
      "0 Gap(t=10000000000.0, medium=Air())\n",
      "1 Gap(t=7.65, medium=Glass(nd=1.90265, vd=35.77, mat='', cat=''))\n",
      "2 Gap(t=2.8, medium=Glass(nd=1.552981, vd=55.07, mat='', cat=''))\n",
      "3 Gap(t=18.12, medium=Air())\n",
      "4 Gap(t=2.8, medium=Glass(nd=1.61266, vd=44.46, mat='', cat=''))\n",
      "5 Gap(t=9.15, medium=Glass(nd=1.59319, vd=67.9, mat='', cat=''))\n",
      "6 Gap(t=0.4, medium=Air())\n",
      "7 Gap(t=10.95, medium=Glass(nd=1.8485, vd=43.79, mat='', cat=''))\n",
      "8 Gap(t=0.4, medium=Air())\n",
      "9 Gap(t=9.74, medium=Glass(nd=1.59319, vd=67.9, mat='', cat=''))\n",
      "10 Gap(t=0.2, medium=Air())\n",
      "11 Gap(t=8.0, medium=Glass(nd=1.59319, vd=67.9, mat='', cat=''))\n",
      "12 Gap(t=2.8, medium=Glass(nd=1.738, vd=32.33, mat='', cat=''))\n",
      "13 Gap(t=8.7, medium=Air())\n",
      "14 Gap(t=5.29, medium=Air())\n",
      "15 Gap(t=2.2, medium=Glass(nd=1.61266, vd=44.46, mat='', cat=''))\n",
      "16 Gap(t=11.55, medium=Glass(nd=1.49782, vd=82.57, mat='', cat=''))\n",
      "17 Gap(t=0.2, medium=Air())\n",
      "18 Gap(t=9.5, medium=Glass(nd=1.883, vd=40.69, mat='', cat=''))\n",
      "19 Gap(t=0.2, medium=Air())\n",
      "20 Gap(t=7.45, medium=Glass(nd=1.95375, vd=32.33, mat='', cat=''))\n",
      "21 Gap(t=1.8, medium=Glass(nd=1.738, vd=32.33, mat='', cat=''))\n",
      "22 Gap(t=2.68, medium=Air())\n",
      "23 Gap(t=6.35, medium=Glass(nd=1.883, vd=40.69, mat='', cat=''))\n",
      "24 Gap(t=1.81, medium=Glass(nd=1.69895, vd=30.13, mat='', cat=''))\n",
      "25 Gap(t=0.8, medium=Air())\n",
      "26 Gap(t=9.11, medium=Glass(nd=1.883, vd=40.69, mat='', cat=''))\n",
      "27 Gap(t=3.0, medium=Glass(nd=1.765538, vd=46.76, mat='', cat=''))\n",
      "28 Gap(t=14.5, medium=Air())\n",
      "29 Gap(t=1.6, medium=Glass(nd=1.5168, vd=64.14, mat='', cat=''))\n",
      "30 Gap(t=1.0, medium=Air())\n"
     ]
    }
   ],
   "source": [
    "sm.list_gaps()"
   ]
  },
  {
   "cell_type": "code",
   "execution_count": 145,
   "metadata": {},
   "outputs": [],
   "source": [
    "opm.update_model()"
   ]
  },
  {
   "cell_type": "code",
   "execution_count": 146,
   "metadata": {},
   "outputs": [
    {
     "name": "stdout",
     "output_type": "stream",
     "text": [
      "             r            t        medium     mode   zdr      sd\n",
      " Obj:     0.000000  1.00000e+10       air             1  3.6357e+09\n",
      "   1:   108.488000      7.65000   903.358             1      93.713\n",
      "   2:  -848.550000      2.80000   553.551             1      127.42\n",
      "   3:    50.252000      18.1200       air             1      1.0000\n",
      "   4:   -60.720000      2.80000   613.445             1      1.0000\n",
      "   5:  2497.500000      9.15000   593.679             1      1.0000\n",
      "   6:   -77.239000     0.400000       air             1      1.0000\n",
      "   7:   113.763000      10.9500   849.438             1      1.0000\n",
      "   8:  -178.060000     0.400000       air             1      1.0000\n",
      "   9:    70.659000      9.74000   593.679             1      1.0000\n",
      "  10: -1968.500000     0.200000       air             1      1.0000\n",
      "  11:   289.687000      8.00000   593.679             1      1.0000\n",
      "  12:   -97.087000      2.80000   738.323             1      1.0000\n",
      "  13:    47.074000      8.70000       air             1      1.0000\n",
      "Stop:     0.000000      5.29000       air             1      1.0000\n",
      "  15:   -95.230000      2.20000   613.445             1      1.0000\n",
      "  16:    41.204000      11.5500   498.826             1      1.0000\n",
      "  17:  -273.092000     0.200000       air             1      1.0000\n",
      "  18:    76.173000      9.50000   883.407             1      1.0000\n",
      "  19:  -101.575000     0.200000       air             1      1.0000\n",
      "  20:   176.128000      7.45000   954.323             1      1.0000\n",
      "  21:   -67.221000      1.80000   738.323             1      1.0000\n",
      "  22:    55.510000      2.68000       air             1      1.0000\n",
      "  23:    71.413000      6.35000   883.407             1      1.0000\n",
      "  24:  -115.025000      1.81000   699.301             1      1.0000\n",
      "  25:    46.943000     0.800000       air             1      1.0000\n",
      "  26:    55.281000      9.11000   883.407             1      1.0000\n",
      "  27:  -144.041000      3.00000   766.468             1      1.0000\n",
      "  28:    52.858000      14.5000       air             1      1.0000\n",
      "  29:     0.000000      1.60000   517.641             1      1.0000\n",
      "  30:     0.000000      1.00000       air             1      1.0000\n",
      " Img:     0.000000      0.00000                       1      1.0000\n"
     ]
    }
   ],
   "source": [
    "sm.list_model()\n",
    "opm.ele_model.list_elements()"
   ]
  },
  {
   "cell_type": "code",
   "execution_count": 147,
   "metadata": {},
   "outputs": [
    {
     "name": "stdout",
     "output_type": "stream",
     "text": [
      "efl               59.62\n",
      "ffl                1.66\n",
      "pp1               61.28\n",
      "bfl              0.9925\n",
      "ppk               58.63\n",
      "f/#                0.98\n",
      "m             -0.000125\n",
      "red          -1.677e+08\n",
      "obj_dist          1e+10\n",
      "obj_ang           19.98\n",
      "enp_dist          69.29\n",
      "enp_radius        30.42\n",
      "na obj        3.042e-09\n",
      "n obj                 1\n",
      "img_dist              1\n",
      "img_ht            21.68\n",
      "exp_dist         -51.57\n",
      "exp_radius        26.82\n",
      "na img          -0.4545\n",
      "n img                 1\n",
      "optical invariant        11.06\n"
     ]
    }
   ],
   "source": [
    "pm.first_order_data()"
   ]
  },
  {
   "cell_type": "code",
   "execution_count": 148,
   "metadata": {},
   "outputs": [
    {
     "data": {
      "image/png": "[encoded data removed]",
      "text/plain": [
       "<InteractiveLayout size 432x288 with 1 Axes>"
      ]
     },
     "metadata": {},
     "output_type": "display_data"
    }
   ],
   "source": [
    "layout_plt = plt.figure(FigureClass=InteractiveLayout, opt_model=opm, do_draw_rays=True, do_paraxial_layout=False,\n",
    "                        is_dark=isdark).plot()"
   ]
  },
  {
   "cell_type": "code",
   "execution_count": null,
   "metadata": {},
   "outputs": [],
   "source": []
  }
 ],
 "metadata": {
  "kernelspec": {
   "display_name": "Python 3",
   "language": "python",
   "name": "python3"
  },
  "language_info": {
   "codemirror_mode": {
    "name": "ipython",
    "version": 3
   },
   "file_extension": ".py",
   "mimetype": "text/x-python",
   "name": "python",
   "nbconvert_exporter": "python",
   "pygments_lexer": "ipython3",
   "version": "3.7.3"
  }
 },
 "nbformat": 4,
 "nbformat_minor": 2
}
